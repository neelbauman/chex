{
 "cells": [
  {
   "cell_type": "code",
   "execution_count": 1,
   "id": "a7917de0-ad90-4e37-a652-c3dcabdf3b30",
   "metadata": {},
   "outputs": [],
   "source": [
    "import dataclass"
   ]
  },
  {
   "cell_type": "code",
   "execution_count": 2,
   "id": "865257dd-9a03-47ee-a3f1-cd71eed7e93d",
   "metadata": {},
   "outputs": [],
   "source": [
    "url = dataclass.URL(\"/wiki/%E3%83%A1%E3%82%A4%E3%83%B3%E3%83%9A%E3%83%BC%E3%82%B8\")"
   ]
  },
  {
   "cell_type": "code",
   "execution_count": 3,
   "id": "c8daae7e-5625-4753-b6ca-19f89889520b",
   "metadata": {},
   "outputs": [
    {
     "data": {
      "text/plain": [
       "'/wiki/メインページ'"
      ]
     },
     "execution_count": 3,
     "metadata": {},
     "output_type": "execute_result"
    }
   ],
   "source": [
    "url.url"
   ]
  },
  {
   "cell_type": "code",
   "execution_count": 4,
   "id": "26938bb9-a723-4fc0-9220-4ba645f0b1f7",
   "metadata": {},
   "outputs": [
    {
     "data": {
      "text/plain": [
       "'/wiki/%E3%83%A1%E3%82%A4%E3%83%B3%E3%83%9A%E3%83%BC%E3%82%B8'"
      ]
     },
     "execution_count": 4,
     "metadata": {},
     "output_type": "execute_result"
    }
   ],
   "source": [
    "url.encoded"
   ]
  },
  {
   "cell_type": "code",
   "execution_count": 5,
   "id": "5ff3014a-48af-425e-8cb2-836586ef10db",
   "metadata": {},
   "outputs": [
    {
     "data": {
      "text/plain": [
       "'/wiki/メインページ'"
      ]
     },
     "execution_count": 5,
     "metadata": {},
     "output_type": "execute_result"
    }
   ],
   "source": [
    "url.decoded"
   ]
  },
  {
   "cell_type": "code",
   "execution_count": 6,
   "id": "2a0fca28-f508-43e9-baf7-5601a9b21e88",
   "metadata": {},
   "outputs": [
    {
     "data": {
      "text/plain": [
       "'3c700b4551802c7b170e1543c47be42f5aaa3a1d'"
      ]
     },
     "execution_count": 6,
     "metadata": {},
     "output_type": "execute_result"
    }
   ],
   "source": [
    "url.hashed"
   ]
  },
  {
   "cell_type": "code",
   "execution_count": 7,
   "id": "21372f10-ebe6-40ce-a0cc-83c4d47404c2",
   "metadata": {},
   "outputs": [
    {
     "data": {
      "text/plain": [
       "'/wiki/メインページ'"
      ]
     },
     "execution_count": 7,
     "metadata": {},
     "output_type": "execute_result"
    }
   ],
   "source": [
    "url.url"
   ]
  }
 ],
 "metadata": {
  "kernelspec": {
   "display_name": "Python 3 (ipykernel)",
   "language": "python",
   "name": "python3"
  },
  "language_info": {
   "codemirror_mode": {
    "name": "ipython",
    "version": 3
   },
   "file_extension": ".py",
   "mimetype": "text/x-python",
   "name": "python",
   "nbconvert_exporter": "python",
   "pygments_lexer": "ipython3",
   "version": "3.11.3"
  }
 },
 "nbformat": 4,
 "nbformat_minor": 5
}
