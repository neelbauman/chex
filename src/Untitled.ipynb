{
 "cells": [
  {
   "cell_type": "code",
   "execution_count": 6,
   "id": "a7917de0-ad90-4e37-a652-c3dcabdf3b30",
   "metadata": {},
   "outputs": [],
   "source": [
    "import dataclass"
   ]
  },
  {
   "cell_type": "code",
   "execution_count": 7,
   "id": "865257dd-9a03-47ee-a3f1-cd71eed7e93d",
   "metadata": {},
   "outputs": [],
   "source": [
    "s = 'https://tech-unlimited.com/urlencode.html'\n",
    "t = \"https://qiita.com/motoki1990/items/8275dbe02d5fd5fa6d2d\"\n",
    "url = dataclass.URL(s)\n",
    "url_t = dataclass.URL(t)"
   ]
  },
  {
   "cell_type": "code",
   "execution_count": 8,
   "id": "c8daae7e-5625-4753-b6ca-19f89889520b",
   "metadata": {},
   "outputs": [
    {
     "name": "stdout",
     "output_type": "stream",
     "text": [
      "qiita.com/\n",
      "https://\n"
     ]
    },
    {
     "data": {
      "text/plain": [
       "https://tech-unlimited.com/urlencode.html"
      ]
     },
     "execution_count": 8,
     "metadata": {},
     "output_type": "execute_result"
    }
   ],
   "source": [
    "print(url_t.domain.encoded)\n",
    "print(url_t.protocol.decoded)\n",
    "url"
   ]
  },
  {
   "cell_type": "code",
   "execution_count": 4,
   "id": "26938bb9-a723-4fc0-9220-4ba645f0b1f7",
   "metadata": {},
   "outputs": [
    {
     "data": {
      "text/plain": [
       "'https://tech-unlimited.com/'"
      ]
     },
     "execution_count": 4,
     "metadata": {},
     "output_type": "execute_result"
    }
   ],
   "source": [
    "url.protocol + url.domain"
   ]
  },
  {
   "cell_type": "code",
   "execution_count": 9,
   "id": "5ff3014a-48af-425e-8cb2-836586ef10db",
   "metadata": {},
   "outputs": [
    {
     "data": {
      "text/plain": [
       "'https://tech-unlimited.com/urlencode.html'"
      ]
     },
     "execution_count": 9,
     "metadata": {},
     "output_type": "execute_result"
    }
   ],
   "source": [
    "url.decoded"
   ]
  },
  {
   "cell_type": "code",
   "execution_count": 10,
   "id": "2a0fca28-f508-43e9-baf7-5601a9b21e88",
   "metadata": {},
   "outputs": [
    {
     "data": {
      "text/plain": [
       "'1e3d844097fd8335519f8990809c314f1f020ae0'"
      ]
     },
     "execution_count": 10,
     "metadata": {},
     "output_type": "execute_result"
    }
   ],
   "source": [
    "url.hashed"
   ]
  },
  {
   "cell_type": "code",
   "execution_count": 11,
   "id": "21372f10-ebe6-40ce-a0cc-83c4d47404c2",
   "metadata": {},
   "outputs": [
    {
     "data": {
      "text/plain": [
       "'https://tech-unlimited.com/urlencode.html'"
      ]
     },
     "execution_count": 11,
     "metadata": {},
     "output_type": "execute_result"
    }
   ],
   "source": [
    "url.url"
   ]
  },
  {
   "cell_type": "code",
   "execution_count": 8,
   "id": "ce16ddf5-68bf-43da-a67f-946eba138b95",
   "metadata": {},
   "outputs": [],
   "source": [
    "l = []"
   ]
  },
  {
   "cell_type": "code",
   "execution_count": 12,
   "id": "9a2d5b0e-0513-46fe-9dd0-5bb807f7aed8",
   "metadata": {},
   "outputs": [
    {
     "ename": "IndexError",
     "evalue": "list index out of range",
     "output_type": "error",
     "traceback": [
      "\u001b[0;31m---------------------------------------------------------------------------\u001b[0m",
      "\u001b[0;31mIndexError\u001b[0m                                Traceback (most recent call last)",
      "Cell \u001b[0;32mIn[12], line 1\u001b[0m\n\u001b[0;32m----> 1\u001b[0m \u001b[43ml\u001b[49m\u001b[43m[\u001b[49m\u001b[38;5;241;43m0\u001b[39;49m\u001b[43m]\u001b[49m\n",
      "\u001b[0;31mIndexError\u001b[0m: list index out of range"
     ]
    }
   ],
   "source": []
  }
 ],
 "metadata": {
  "kernelspec": {
   "display_name": "Python 3 (ipykernel)",
   "language": "python",
   "name": "python3"
  },
  "language_info": {
   "codemirror_mode": {
    "name": "ipython",
    "version": 3
   },
   "file_extension": ".py",
   "mimetype": "text/x-python",
   "name": "python",
   "nbconvert_exporter": "python",
   "pygments_lexer": "ipython3",
   "version": "3.11.3"
  }
 },
 "nbformat": 4,
 "nbformat_minor": 5
}
